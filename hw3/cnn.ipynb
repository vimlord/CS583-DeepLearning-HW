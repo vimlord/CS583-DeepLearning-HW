{
 "cells": [
  {
   "cell_type": "markdown",
   "metadata": {
    "colab_type": "text",
    "id": "A8CHhvSJ9g4C"
   },
   "source": [
    "# Home 3: Build a CNN for image recognition.\n",
    "\n",
    "### Name: Christopher Hittner\n",
    "\n",
    "I pledge my honor that I have abided by the Stevens Honor System.\n"
   ]
  },
  {
   "cell_type": "markdown",
   "metadata": {
    "colab_type": "text",
    "id": "NiQXbjO59g4E"
   },
   "source": [
    "## 1. Data preparation"
   ]
  },
  {
   "cell_type": "markdown",
   "metadata": {
    "colab_type": "text",
    "id": "5KRA-w459g4I"
   },
   "source": [
    "### 1.1. Load data\n"
   ]
  },
  {
   "cell_type": "code",
   "execution_count": 17,
   "metadata": {
    "colab": {
     "base_uri": "https://localhost:8080/",
     "height": 356
    },
    "colab_type": "code",
    "id": "XYewalT59g4N",
    "outputId": "542dca40-6573-4a0a-aff4-c11d2eba806d"
   },
   "outputs": [
    {
     "name": "stdout",
     "output_type": "stream",
     "text": [
      "shape of x_train: (50000, 32, 32, 3)\n",
      "shape of y_train: (50000, 1)\n",
      "shape of x_test: (10000, 32, 32, 3)\n",
      "shape of y_test: (10000, 1)\n",
      "number of classes: 10\n"
     ]
    },
    {
     "data": {
      "image/png": "[encoded data removed]",
      "text/plain": [
       "<Figure size 432x288 with 1 Axes>"
      ]
     },
     "metadata": {
      "tags": []
     },
     "output_type": "display_data"
    }
   ],
   "source": [
    "from keras.datasets import cifar10\n",
    "import matplotlib.pyplot as plt\n",
    "import numpy\n",
    "%matplotlib inline\n",
    "\n",
    "\n",
    "(x_train, y_train), (x_test, y_test) = cifar10.load_data()\n",
    "\n",
    "print('shape of x_train: ' + str(x_train.shape))\n",
    "print('shape of y_train: ' + str(y_train.shape))\n",
    "print('shape of x_test: ' + str(x_test.shape))\n",
    "print('shape of y_test: ' + str(y_test.shape))\n",
    "print('number of classes: ' + str(numpy.max(y_train) - numpy.min(y_train) + 1))\n",
    "\n",
    "plt.imshow(x_train[0])\n",
    "plt.show()\n",
    "\n",
    "# Scale the input to [0,1]\n",
    "x_train = x_train / 255.\n",
    "x_test = x_test / 255."
   ]
  },
  {
   "cell_type": "markdown",
   "metadata": {
    "colab_type": "text",
    "id": "0l7fbwDh9g4b"
   },
   "source": [
    "### 1.2. One-hot encode the labels\n",
    "\n",
    "In the input, a label is a scalar in $\\{0, 1, \\cdots , 9\\}$. However, such labels are not easily trainable and it is thus easier to train on an encoding of the labels. Here, a one-hot encoding is used for this purpose."
   ]
  },
  {
   "cell_type": "code",
   "execution_count": 3,
   "metadata": {
    "colab": {
     "base_uri": "https://localhost:8080/",
     "height": 89
    },
    "colab_type": "code",
    "id": "HVF-vk_H9g4d",
    "outputId": "a02d6a13-1930-4ada-95ca-f3e20248c3be"
   },
   "outputs": [
    {
     "name": "stdout",
     "output_type": "stream",
     "text": [
      "Shape of y_train_vec: (50000, 10)\n",
      "Shape of y_test_vec: (10000, 10)\n",
      "[6]\n",
      "[0. 0. 0. 0. 0. 0. 1. 0. 0. 0.]\n"
     ]
    }
   ],
   "source": [
    "from keras.utils import to_categorical\n",
    "\n",
    "def to_one_hot(y, num_class=10):\n",
    "    return to_categorical(y)\n",
    "\n",
    "y_train_vec = to_one_hot(y_train)\n",
    "y_test_vec = to_one_hot(y_test)\n",
    "\n",
    "print('Shape of y_train_vec: ' + str(y_train_vec.shape))\n",
    "print('Shape of y_test_vec: ' + str(y_test_vec.shape))\n",
    "\n",
    "print(y_train[0])\n",
    "print(y_train_vec[0])"
   ]
  },
  {
   "cell_type": "markdown",
   "metadata": {
    "colab_type": "text",
    "id": "RKNs7Dt89g4j"
   },
   "source": [
    "### 1.3. Randomly partition the training set to training and validation sets\n",
    "\n",
    "Randomly partition the 50K training samples to 2 sets:\n",
    "* a training set containing 40K samples\n",
    "* a validation set containing 10K samples\n"
   ]
  },
  {
   "cell_type": "code",
   "execution_count": 4,
   "metadata": {
    "colab": {
     "base_uri": "https://localhost:8080/",
     "height": 89
    },
    "colab_type": "code",
    "id": "mWlWCMGU9g4k",
    "outputId": "453f85c7-d61d-4e83-b2fe-04041f4c2660"
   },
   "outputs": [
    {
     "name": "stdout",
     "output_type": "stream",
     "text": [
      "Shape of x_tr: (40000, 32, 32, 3)\n",
      "Shape of y_tr: (40000, 10)\n",
      "Shape of x_val: (10000, 32, 32, 3)\n",
      "Shape of y_val: (10000, 10)\n"
     ]
    }
   ],
   "source": [
    "rand_indices = numpy.random.permutation(50000)\n",
    "train_indices = rand_indices[0:40000]\n",
    "valid_indices = rand_indices[40000:50000]\n",
    "\n",
    "x_val = x_train[valid_indices, :]\n",
    "y_val = y_train_vec[valid_indices, :]\n",
    "\n",
    "x_tr = x_train[train_indices, :]\n",
    "y_tr = y_train_vec[train_indices, :]\n",
    "\n",
    "print('Shape of x_tr: ' + str(x_tr.shape))\n",
    "print('Shape of y_tr: ' + str(y_tr.shape))\n",
    "print('Shape of x_val: ' + str(x_val.shape))\n",
    "print('Shape of y_val: ' + str(y_val.shape))"
   ]
  },
  {
   "cell_type": "markdown",
   "metadata": {
    "colab_type": "text",
    "id": "2uI1eXfR9g4q"
   },
   "source": [
    "### 1.4. Perform Data Augmentation\n",
    "\n",
    "To increase the model accuracy, I used data augmentation to increase the amount of data available to the model. Fortunately, Keras provides a ```model.fit_generator()``` utility. To make use of this, I used the ImageDataGenerator class to generate the samples.\n"
   ]
  },
  {
   "cell_type": "code",
   "execution_count": 0,
   "metadata": {
    "colab": {},
    "colab_type": "code",
    "id": "UvHOk0p29g4t"
   },
   "outputs": [],
   "source": [
    "from keras.preprocessing.image import ImageDataGenerator\n",
    "\n",
    "# Image generator for training\n",
    "def make_generator(X):\n",
    "    gen = ImageDataGenerator(\n",
    "            rotation_range=40,\n",
    "            zoom_range=0.2,\n",
    "            shear_range=0.2,\n",
    "            width_shift_range=0.2,\n",
    "            height_shift_range=0.2,\n",
    "            fill_mode='nearest',\n",
    "            horizontal_flip=True,\n",
    "    )\n",
    "    gen.fit(X)\n",
    "    return gen\n",
    "\n",
    "# Create a generator for the training data\n",
    "gen = make_generator(x_tr)"
   ]
  },
  {
   "cell_type": "markdown",
   "metadata": {
    "colab_type": "text",
    "id": "0TvXULhQ9g4y"
   },
   "source": [
    "## 2. Build a CNN and tune its hyper-parameters\n",
    "\n",
    "1. Build a convolutional neural network model\n",
    "2. Use the validation data to tune the hyper-parameters (e.g., network structure, and optimization algorithm)\n",
    "    * Do NOT use test data for hyper-parameter tuning!!!\n",
    "3. Try to achieve a validation accuracy as high as possible."
   ]
  },
  {
   "cell_type": "markdown",
   "metadata": {
    "colab_type": "text",
    "id": "EdJUPA3H9g4z"
   },
   "source": [
    "### Remark: \n",
    "\n",
    "The following CNN is just an example. You are supposed to make **substantial improvements** such as:\n",
    "* Add more layers.\n",
    "* Use regularizations, e.g., dropout.\n",
    "* Use batch normalization."
   ]
  },
  {
   "cell_type": "code",
   "execution_count": 6,
   "metadata": {
    "colab": {
     "base_uri": "https://localhost:8080/",
     "height": 775
    },
    "colab_type": "code",
    "id": "TNxSwx7S9g40",
    "outputId": "a926d2a0-523f-4d87-d06f-ed6829ff6cf1",
    "scrolled": false
   },
   "outputs": [
    {
     "name": "stdout",
     "output_type": "stream",
     "text": [
      "WARNING:tensorflow:From /usr/local/lib/python3.6/dist-packages/tensorflow/python/framework/op_def_library.py:263: colocate_with (from tensorflow.python.framework.ops) is deprecated and will be removed in a future version.\n",
      "Instructions for updating:\n",
      "Colocations handled automatically by placer.\n",
      "WARNING:tensorflow:From /usr/local/lib/python3.6/dist-packages/keras/backend/tensorflow_backend.py:3445: calling dropout (from tensorflow.python.ops.nn_ops) with keep_prob is deprecated and will be removed in a future version.\n",
      "Instructions for updating:\n",
      "Please use `rate` instead of `keep_prob`. Rate should be set to `rate = 1 - keep_prob`.\n",
      "_________________________________________________________________\n",
      "Layer (type)                 Output Shape              Param #   \n",
      "=================================================================\n",
      "conv2d_1 (Conv2D)            (None, 32, 32, 64)        9472      \n",
      "_________________________________________________________________\n",
      "model_1 (Model)              (None, 32, 32, 64)        74368     \n",
      "_________________________________________________________________\n",
      "model_2 (Model)              (None, 32, 32, 64)        74368     \n",
      "_________________________________________________________________\n",
      "max_pooling2d_1 (MaxPooling2 (None, 16, 16, 64)        0         \n",
      "_________________________________________________________________\n",
      "model_3 (Model)              (None, 16, 16, 64)        74368     \n",
      "_________________________________________________________________\n",
      "model_4 (Model)              (None, 16, 16, 64)        74368     \n",
      "_________________________________________________________________\n",
      "max_pooling2d_2 (MaxPooling2 (None, 8, 8, 64)          0         \n",
      "_________________________________________________________________\n",
      "model_5 (Model)              (None, 8, 8, 64)          74368     \n",
      "_________________________________________________________________\n",
      "model_6 (Model)              (None, 8, 8, 64)          74368     \n",
      "_________________________________________________________________\n",
      "max_pooling2d_3 (MaxPooling2 (None, 4, 4, 64)          0         \n",
      "_________________________________________________________________\n",
      "flatten_1 (Flatten)          (None, 1024)              0         \n",
      "_________________________________________________________________\n",
      "dropout_1 (Dropout)          (None, 1024)              0         \n",
      "_________________________________________________________________\n",
      "dense_1 (Dense)              (None, 128)               131200    \n",
      "_________________________________________________________________\n",
      "dense_2 (Dense)              (None, 10)                1290      \n",
      "=================================================================\n",
      "Total params: 588,170\n",
      "Trainable params: 586,634\n",
      "Non-trainable params: 1,536\n",
      "_________________________________________________________________\n"
     ]
    }
   ],
   "source": [
    "from keras.layers import *\n",
    "from keras.models import Model, Sequential\n",
    "\n",
    "def add_skip_connection(model, input_shape=None):\n",
    "    input_shape = input_shape or model.output_shape[1:]\n",
    "    \n",
    "    # Input to the residual block\n",
    "    x = Input(shape=input_shape)\n",
    "    \n",
    "    trace = Sequential()\n",
    "    \n",
    "    trace.add(BatchNormalization(input_shape=input_shape))\n",
    "    trace.add(Activation('relu'))\n",
    "    trace.add(Conv2D(64, kernel_size=(3, 3), padding='same'))\n",
    "    \n",
    "    trace.add(BatchNormalization())\n",
    "    trace.add(Activation('relu'))\n",
    "    trace.add(Conv2D(64, kernel_size=(3, 3), padding='same'))\n",
    "    \n",
    "    y = trace(x)\n",
    "    \n",
    "    residual_block = Model(x, Add()([x, y]))\n",
    "    \n",
    "    model.add(residual_block)\n",
    "    \n",
    "\n",
    "def make_model():\n",
    "    model = Sequential()\n",
    "    \n",
    "\n",
    "    model.add(Conv2D(64, (7, 7), padding='same', input_shape=(32, 32, 3)))\n",
    "    \n",
    "    # We will reduce the dimensionality 3 times\n",
    "    for _ in range(3):\n",
    "        # At each level, we will have three tiers of residual blocks\n",
    "        for _ in range(2):\n",
    "            add_skip_connection(model)\n",
    "            \n",
    "        # We will also reduce to half size\n",
    "        model.add(MaxPooling2D((2, 2)))\n",
    "    \n",
    "    \"\"\"\n",
    "    model.add(Conv2D(64, (3, 3), padding='same', input_shape=(32, 32, 3)))\n",
    "    model.add(BatchNormalization())\n",
    "    model.add(Activation('relu'))\n",
    "\n",
    "    #model.add(Dropout(0.5))\n",
    "    model.add(Conv2D(64, (3, 3), padding='same'))\n",
    "    model.add(BatchNormalization())\n",
    "    model.add(Activation('relu'))\n",
    "    model.add(MaxPooling2D((2, 2)))\n",
    "    \n",
    "    #model.add(Dropout(0.5))\n",
    "    model.add(Conv2D(64, (3, 3), padding='same'))\n",
    "    model.add(BatchNormalization())\n",
    "    model.add(Activation('relu'))\n",
    "\n",
    "    #model.add(Dropout(0.5))\n",
    "    model.add(Conv2D(64, (3, 3), padding='same'))\n",
    "    model.add(BatchNormalization())\n",
    "    model.add(Activation('relu'))\n",
    "    model.add(MaxPooling2D((2, 2)))\n",
    "    \"\"\"\n",
    "\n",
    "    model.add(Flatten())\n",
    "\n",
    "    model.add(Dropout(0.5))\n",
    "    model.add(Dense(128, activation='relu'))\n",
    "\n",
    "    model.add(Dense(10, activation='softmax'))\n",
    "    \n",
    "    return model\n",
    "\n",
    "model = make_model()\n",
    "\n",
    "model.summary()"
   ]
  },
  {
   "cell_type": "code",
   "execution_count": 0,
   "metadata": {
    "colab": {},
    "colab_type": "code",
    "id": "loKLs6Nf9g48"
   },
   "outputs": [],
   "source": [
    "from keras import optimizers\n",
    "\n",
    "learning_rate = 2E-4 # to be tuned!\n",
    "\n",
    "\n",
    "model.compile(loss='categorical_crossentropy',\n",
    "              optimizer=optimizers.Adam(lr=learning_rate),\n",
    "              metrics=['acc'])"
   ]
  },
  {
   "cell_type": "code",
   "execution_count": 8,
   "metadata": {
    "colab": {
     "base_uri": "https://localhost:8080/",
     "height": 2375
    },
    "colab_type": "code",
    "id": "lgxmWCwY9g5G",
    "outputId": "ad2de3b8-d06c-4ced-dca0-a8949b5918b7",
    "scrolled": false
   },
   "outputs": [
    {
     "name": "stdout",
     "output_type": "stream",
     "text": [
      "WARNING:tensorflow:From /usr/local/lib/python3.6/dist-packages/tensorflow/python/ops/math_ops.py:3066: to_int32 (from tensorflow.python.ops.math_ops) is deprecated and will be removed in a future version.\n",
      "Instructions for updating:\n",
      "Use tf.cast instead.\n",
      "Epoch 1/64\n",
      "1250/1250 [==============================] - 96s 77ms/step - loss: 2.0448 - acc: 0.2698 - val_loss: 1.7415 - val_acc: 0.3645\n",
      "Epoch 2/64\n",
      "1250/1250 [==============================] - 82s 66ms/step - loss: 1.7279 - acc: 0.3659 - val_loss: 1.7410 - val_acc: 0.3580\n",
      "Epoch 3/64\n",
      "1250/1250 [==============================] - 82s 66ms/step - loss: 1.5971 - acc: 0.4203 - val_loss: 1.4912 - val_acc: 0.4671\n",
      "Epoch 4/64\n",
      "1250/1250 [==============================] - 82s 66ms/step - loss: 1.4789 - acc: 0.4644 - val_loss: 1.3400 - val_acc: 0.5264\n",
      "Epoch 5/64\n",
      "1250/1250 [==============================] - 82s 66ms/step - loss: 1.3890 - acc: 0.4954 - val_loss: 1.4440 - val_acc: 0.4926\n",
      "Epoch 6/64\n",
      "1250/1250 [==============================] - 83s 66ms/step - loss: 1.3136 - acc: 0.5232 - val_loss: 1.2327 - val_acc: 0.5494\n",
      "Epoch 7/64\n",
      "1250/1250 [==============================] - 82s 66ms/step - loss: 1.2512 - acc: 0.5537 - val_loss: 1.2696 - val_acc: 0.5616\n",
      "Epoch 8/64\n",
      "1250/1250 [==============================] - 82s 66ms/step - loss: 1.2015 - acc: 0.5700 - val_loss: 1.1671 - val_acc: 0.6007\n",
      "Epoch 9/64\n",
      "1250/1250 [==============================] - 83s 66ms/step - loss: 1.1528 - acc: 0.5884 - val_loss: 1.1563 - val_acc: 0.6069\n",
      "Epoch 10/64\n",
      "1250/1250 [==============================] - 82s 66ms/step - loss: 1.1009 - acc: 0.6083 - val_loss: 1.0476 - val_acc: 0.6346\n",
      "Epoch 11/64\n",
      "1250/1250 [==============================] - 83s 66ms/step - loss: 1.0644 - acc: 0.6235 - val_loss: 1.0987 - val_acc: 0.6256\n",
      "Epoch 12/64\n",
      "1250/1250 [==============================] - 82s 66ms/step - loss: 1.0286 - acc: 0.6370 - val_loss: 0.9523 - val_acc: 0.6618\n",
      "Epoch 13/64\n",
      "1250/1250 [==============================] - 82s 66ms/step - loss: 0.9955 - acc: 0.6500 - val_loss: 1.2099 - val_acc: 0.6120\n",
      "Epoch 14/64\n",
      "1250/1250 [==============================] - 82s 66ms/step - loss: 0.9655 - acc: 0.6582 - val_loss: 0.9073 - val_acc: 0.6963\n",
      "Epoch 15/64\n",
      "1250/1250 [==============================] - 83s 66ms/step - loss: 0.9283 - acc: 0.6721 - val_loss: 1.0294 - val_acc: 0.6614\n",
      "Epoch 16/64\n",
      "1250/1250 [==============================] - 83s 66ms/step - loss: 0.9078 - acc: 0.6832 - val_loss: 0.9391 - val_acc: 0.6824\n",
      "Epoch 17/64\n",
      "1250/1250 [==============================] - 83s 66ms/step - loss: 0.8727 - acc: 0.6953 - val_loss: 1.0596 - val_acc: 0.6542\n",
      "Epoch 18/64\n",
      "1250/1250 [==============================] - 82s 66ms/step - loss: 0.8590 - acc: 0.7014 - val_loss: 1.0175 - val_acc: 0.6703\n",
      "Epoch 19/64\n",
      "1250/1250 [==============================] - 82s 66ms/step - loss: 0.8454 - acc: 0.7056 - val_loss: 0.8792 - val_acc: 0.7041\n",
      "Epoch 20/64\n",
      "1250/1250 [==============================] - 83s 66ms/step - loss: 0.8147 - acc: 0.7149 - val_loss: 0.7486 - val_acc: 0.7415\n",
      "Epoch 21/64\n",
      "1250/1250 [==============================] - 83s 66ms/step - loss: 0.8020 - acc: 0.7206 - val_loss: 0.7933 - val_acc: 0.7332\n",
      "Epoch 22/64\n",
      "1250/1250 [==============================] - 83s 66ms/step - loss: 0.7829 - acc: 0.7306 - val_loss: 0.7272 - val_acc: 0.7611\n",
      "Epoch 23/64\n",
      "1250/1250 [==============================] - 83s 66ms/step - loss: 0.7691 - acc: 0.7329 - val_loss: 0.7825 - val_acc: 0.7411\n",
      "Epoch 24/64\n",
      "1250/1250 [==============================] - 82s 66ms/step - loss: 0.7465 - acc: 0.7415 - val_loss: 0.8193 - val_acc: 0.7256\n",
      "Epoch 25/64\n",
      "1250/1250 [==============================] - 82s 66ms/step - loss: 0.7350 - acc: 0.7440 - val_loss: 0.7949 - val_acc: 0.7426\n",
      "Epoch 26/64\n",
      "1250/1250 [==============================] - 83s 66ms/step - loss: 0.7205 - acc: 0.7517 - val_loss: 0.6950 - val_acc: 0.7678\n",
      "Epoch 27/64\n",
      "1250/1250 [==============================] - 82s 66ms/step - loss: 0.7060 - acc: 0.7556 - val_loss: 0.8389 - val_acc: 0.7434\n",
      "Epoch 28/64\n",
      "1250/1250 [==============================] - 82s 66ms/step - loss: 0.6950 - acc: 0.7597 - val_loss: 0.6038 - val_acc: 0.7923\n",
      "Epoch 29/64\n",
      "1250/1250 [==============================] - 83s 66ms/step - loss: 0.6870 - acc: 0.7624 - val_loss: 0.8039 - val_acc: 0.7348\n",
      "Epoch 30/64\n",
      "1250/1250 [==============================] - 83s 66ms/step - loss: 0.6764 - acc: 0.7652 - val_loss: 0.7373 - val_acc: 0.7649\n",
      "Epoch 31/64\n",
      "1250/1250 [==============================] - 82s 66ms/step - loss: 0.6669 - acc: 0.7697 - val_loss: 0.6942 - val_acc: 0.7708\n",
      "Epoch 32/64\n",
      "1250/1250 [==============================] - 83s 66ms/step - loss: 0.6526 - acc: 0.7752 - val_loss: 0.7475 - val_acc: 0.7538\n",
      "Epoch 33/64\n",
      "1250/1250 [==============================] - 83s 66ms/step - loss: 0.6507 - acc: 0.7767 - val_loss: 0.6493 - val_acc: 0.7854\n",
      "Epoch 34/64\n",
      "1250/1250 [==============================] - 83s 66ms/step - loss: 0.6375 - acc: 0.7824 - val_loss: 0.6143 - val_acc: 0.7976\n",
      "Epoch 35/64\n",
      "1250/1250 [==============================] - 82s 66ms/step - loss: 0.6293 - acc: 0.7831 - val_loss: 0.6670 - val_acc: 0.7829\n",
      "Epoch 36/64\n",
      "1250/1250 [==============================] - 83s 66ms/step - loss: 0.6169 - acc: 0.7870 - val_loss: 0.6970 - val_acc: 0.7743\n",
      "Epoch 37/64\n",
      "1250/1250 [==============================] - 82s 66ms/step - loss: 0.6121 - acc: 0.7880 - val_loss: 0.6397 - val_acc: 0.7969\n",
      "Epoch 38/64\n",
      "1250/1250 [==============================] - 82s 66ms/step - loss: 0.6051 - acc: 0.7943 - val_loss: 0.6800 - val_acc: 0.7823\n",
      "Epoch 39/64\n",
      "1250/1250 [==============================] - 82s 66ms/step - loss: 0.5990 - acc: 0.7964 - val_loss: 0.6457 - val_acc: 0.7932\n",
      "Epoch 40/64\n",
      "1250/1250 [==============================] - 82s 66ms/step - loss: 0.5913 - acc: 0.7974 - val_loss: 0.6479 - val_acc: 0.7897\n",
      "Epoch 41/64\n",
      "1250/1250 [==============================] - 82s 66ms/step - loss: 0.5844 - acc: 0.8001 - val_loss: 0.7026 - val_acc: 0.7781\n",
      "Epoch 42/64\n",
      "1250/1250 [==============================] - 82s 66ms/step - loss: 0.5760 - acc: 0.8025 - val_loss: 0.5020 - val_acc: 0.8337\n",
      "Epoch 43/64\n",
      "1250/1250 [==============================] - 82s 66ms/step - loss: 0.5699 - acc: 0.8057 - val_loss: 0.5806 - val_acc: 0.8101\n",
      "Epoch 44/64\n",
      "1250/1250 [==============================] - 82s 66ms/step - loss: 0.5627 - acc: 0.8092 - val_loss: 0.6348 - val_acc: 0.7959\n",
      "Epoch 45/64\n",
      "1250/1250 [==============================] - 83s 66ms/step - loss: 0.5583 - acc: 0.8113 - val_loss: 0.4994 - val_acc: 0.8348\n",
      "Epoch 46/64\n",
      "1250/1250 [==============================] - 83s 66ms/step - loss: 0.5548 - acc: 0.8091 - val_loss: 0.6652 - val_acc: 0.7955\n",
      "Epoch 47/64\n",
      "1250/1250 [==============================] - 83s 66ms/step - loss: 0.5414 - acc: 0.8135 - val_loss: 0.5564 - val_acc: 0.8165\n",
      "Epoch 48/64\n",
      "1250/1250 [==============================] - 83s 66ms/step - loss: 0.5389 - acc: 0.8138 - val_loss: 0.6008 - val_acc: 0.8078\n",
      "Epoch 49/64\n",
      "1250/1250 [==============================] - 83s 66ms/step - loss: 0.5413 - acc: 0.8124 - val_loss: 0.5287 - val_acc: 0.8278\n",
      "Epoch 50/64\n",
      "1250/1250 [==============================] - 82s 66ms/step - loss: 0.5272 - acc: 0.8186 - val_loss: 0.5031 - val_acc: 0.8320\n",
      "Epoch 51/64\n",
      "1250/1250 [==============================] - 83s 66ms/step - loss: 0.5261 - acc: 0.8195 - val_loss: 0.5121 - val_acc: 0.8282\n",
      "Epoch 52/64\n",
      "1250/1250 [==============================] - 82s 66ms/step - loss: 0.5258 - acc: 0.8185 - val_loss: 0.4938 - val_acc: 0.8368\n",
      "Epoch 53/64\n",
      "1250/1250 [==============================] - 83s 66ms/step - loss: 0.5206 - acc: 0.8202 - val_loss: 0.4494 - val_acc: 0.8485\n",
      "Epoch 54/64\n",
      "1250/1250 [==============================] - 83s 66ms/step - loss: 0.5111 - acc: 0.8234 - val_loss: 0.6187 - val_acc: 0.8072\n",
      "Epoch 55/64\n",
      "1250/1250 [==============================] - 82s 66ms/step - loss: 0.5112 - acc: 0.8226 - val_loss: 0.4729 - val_acc: 0.8438\n",
      "Epoch 56/64\n",
      "1250/1250 [==============================] - 82s 66ms/step - loss: 0.5068 - acc: 0.8270 - val_loss: 0.5701 - val_acc: 0.8204\n",
      "Epoch 57/64\n",
      "1250/1250 [==============================] - 83s 66ms/step - loss: 0.5006 - acc: 0.8273 - val_loss: 0.7606 - val_acc: 0.7867\n",
      "Epoch 58/64\n",
      "1250/1250 [==============================] - 83s 66ms/step - loss: 0.4932 - acc: 0.8305 - val_loss: 0.5494 - val_acc: 0.8286\n",
      "Epoch 59/64\n",
      "1250/1250 [==============================] - 82s 66ms/step - loss: 0.4948 - acc: 0.8302 - val_loss: 0.4436 - val_acc: 0.8503\n",
      "Epoch 60/64\n",
      "1250/1250 [==============================] - 82s 66ms/step - loss: 0.4862 - acc: 0.8325 - val_loss: 0.4705 - val_acc: 0.8438\n",
      "Epoch 61/64\n",
      "1250/1250 [==============================] - 83s 66ms/step - loss: 0.4815 - acc: 0.8350 - val_loss: 0.4790 - val_acc: 0.8435\n",
      "Epoch 62/64\n",
      "1250/1250 [==============================] - 82s 66ms/step - loss: 0.4782 - acc: 0.8356 - val_loss: 0.4790 - val_acc: 0.8446\n",
      "Epoch 63/64\n",
      "1250/1250 [==============================] - 82s 66ms/step - loss: 0.4823 - acc: 0.8353 - val_loss: 0.5408 - val_acc: 0.8284\n",
      "Epoch 64/64\n",
      "1250/1250 [==============================] - 83s 66ms/step - loss: 0.4718 - acc: 0.8369 - val_loss: 0.4882 - val_acc: 0.8420\n"
     ]
    }
   ],
   "source": [
    "history = model.fit_generator(gen.flow(x_tr, y_tr, batch_size=32),\n",
    "                              steps_per_epoch=len(x_tr) // 32, epochs=64,\n",
    "                              validation_data=(x_val, y_val))"
   ]
  },
  {
   "cell_type": "code",
   "execution_count": 9,
   "metadata": {
    "colab": {
     "base_uri": "https://localhost:8080/",
     "height": 279
    },
    "colab_type": "code",
    "id": "AdlO-Psz9g5O",
    "outputId": "6f104a29-4c3d-496b-9165-42460295af05",
    "scrolled": true
   },
   "outputs": [
    {
     "data": {
      "image/png": "[encoded data removed]",
      "text/plain": [
       "<Figure size 432x288 with 1 Axes>"
      ]
     },
     "metadata": {
      "tags": []
     },
     "output_type": "display_data"
    }
   ],
   "source": [
    "acc = history.history['acc']\n",
    "val_acc = history.history['val_acc']\n",
    "\n",
    "epochs = range(len(acc))\n",
    "\n",
    "plt.plot(epochs, acc, 'bo', label='Training acc')\n",
    "plt.plot(epochs, val_acc, 'r', label='Validation acc')\n",
    "plt.xlabel('Epochs')\n",
    "plt.ylabel('Accuracy')\n",
    "plt.legend()\n",
    "plt.show()"
   ]
  },
  {
   "cell_type": "code",
   "execution_count": 10,
   "metadata": {
    "colab": {
     "base_uri": "https://localhost:8080/",
     "height": 279
    },
    "colab_type": "code",
    "id": "E38e-4Te9g5V",
    "outputId": "56dd9f12-7b76-41b0-8ece-41a030b67411"
   },
   "outputs": [
    {
     "data": {
      "image/png": "[encoded data removed]",
      "text/plain": [
       "<Figure size 432x288 with 1 Axes>"
      ]
     },
     "metadata": {
      "tags": []
     },
     "output_type": "display_data"
    }
   ],
   "source": [
    "loss = history.history['loss']\n",
    "val_loss = history.history['val_loss']\n",
    "\n",
    "epochs = range(len(loss))\n",
    "\n",
    "plt.plot(epochs, loss, 'bo', label='Training loss')\n",
    "plt.plot(epochs, val_loss, 'r', label='Validation loss')\n",
    "plt.xlabel('Epochs')\n",
    "plt.ylabel('Loss')\n",
    "plt.legend()\n",
    "plt.show()"
   ]
  },
  {
   "cell_type": "markdown",
   "metadata": {
    "colab_type": "text",
    "id": "iZ1mqQmF9g5Z"
   },
   "source": [
    "## 3. Train (again) and evaluate the model\n",
    "\n",
    "- To this end, you have found the \"best\" hyper-parameters. \n",
    "- Now, fix the hyper-parameters and train the network on the entire training set (all the 50K training samples)\n",
    "- Evaluate your model on the test set."
   ]
  },
  {
   "cell_type": "markdown",
   "metadata": {
    "colab_type": "text",
    "id": "pNBtYTqs9g5c"
   },
   "source": [
    "### 3.1. Train the model on the entire training set\n",
    "\n",
    "Why? Previously, you used 40K samples for training; you wasted 10K samples for the sake of hyper-parameter tuning. Now you already know the hyper-parameters, so why not using all the 50K samples for training?"
   ]
  },
  {
   "cell_type": "code",
   "execution_count": 0,
   "metadata": {
    "colab": {},
    "colab_type": "code",
    "id": "GrKdSvmx9g5e"
   },
   "outputs": [],
   "source": [
    "model = make_model()\n",
    "\n",
    "model.compile(loss='categorical_crossentropy',\n",
    "              optimizer=optimizers.Adam(lr=learning_rate),\n",
    "              metrics=['acc'])"
   ]
  },
  {
   "cell_type": "code",
   "execution_count": 15,
   "metadata": {
    "colab": {
     "base_uri": "https://localhost:8080/",
     "height": 2339
    },
    "colab_type": "code",
    "id": "2NjKCZq39g5i",
    "outputId": "296c520e-0741-4a7e-a708-f5276288edf3",
    "scrolled": false
   },
   "outputs": [
    {
     "name": "stdout",
     "output_type": "stream",
     "text": [
      "Epoch 1/64\n",
      "1562/1562 [==============================] - 117s 75ms/step - loss: 2.0236 - acc: 0.2875\n",
      "Epoch 2/64\n",
      "1562/1562 [==============================] - 98s 63ms/step - loss: 1.6913 - acc: 0.3768\n",
      "Epoch 3/64\n",
      "1562/1562 [==============================] - 98s 63ms/step - loss: 1.5522 - acc: 0.4360\n",
      "Epoch 4/64\n",
      "1562/1562 [==============================] - 98s 63ms/step - loss: 1.4358 - acc: 0.4779\n",
      "Epoch 5/64\n",
      "1562/1562 [==============================] - 99s 63ms/step - loss: 1.3355 - acc: 0.5167\n",
      "Epoch 6/64\n",
      "1562/1562 [==============================] - 98s 63ms/step - loss: 1.2519 - acc: 0.5509\n",
      "Epoch 7/64\n",
      "1562/1562 [==============================] - 98s 63ms/step - loss: 1.1834 - acc: 0.5786\n",
      "Epoch 8/64\n",
      "1562/1562 [==============================] - 99s 63ms/step - loss: 1.1245 - acc: 0.5994\n",
      "Epoch 9/64\n",
      "1562/1562 [==============================] - 98s 63ms/step - loss: 1.0744 - acc: 0.6206\n",
      "Epoch 10/64\n",
      "1562/1562 [==============================] - 99s 63ms/step - loss: 1.0327 - acc: 0.6364\n",
      "Epoch 11/64\n",
      "1562/1562 [==============================] - 99s 63ms/step - loss: 0.9837 - acc: 0.6541\n",
      "Epoch 12/64\n",
      "1562/1562 [==============================] - 99s 63ms/step - loss: 0.9529 - acc: 0.6661\n",
      "Epoch 13/64\n",
      "1562/1562 [==============================] - 98s 63ms/step - loss: 0.9189 - acc: 0.6794\n",
      "Epoch 14/64\n",
      "1562/1562 [==============================] - 99s 64ms/step - loss: 0.8887 - acc: 0.6907\n",
      "Epoch 15/64\n",
      "1562/1562 [==============================] - 99s 63ms/step - loss: 0.8583 - acc: 0.7028\n",
      "Epoch 16/64\n",
      "1562/1562 [==============================] - 99s 63ms/step - loss: 0.8324 - acc: 0.7110\n",
      "Epoch 17/64\n",
      "1562/1562 [==============================] - 99s 63ms/step - loss: 0.8080 - acc: 0.7199\n",
      "Epoch 18/64\n",
      "1562/1562 [==============================] - 98s 63ms/step - loss: 0.7868 - acc: 0.7286\n",
      "Epoch 19/64\n",
      "1562/1562 [==============================] - 99s 63ms/step - loss: 0.7675 - acc: 0.7344\n",
      "Epoch 20/64\n",
      "1562/1562 [==============================] - 99s 63ms/step - loss: 0.7403 - acc: 0.7434\n",
      "Epoch 21/64\n",
      "1562/1562 [==============================] - 99s 64ms/step - loss: 0.7319 - acc: 0.7480\n",
      "Epoch 22/64\n",
      "1562/1562 [==============================] - 99s 63ms/step - loss: 0.7208 - acc: 0.7533\n",
      "Epoch 23/64\n",
      "1562/1562 [==============================] - 99s 63ms/step - loss: 0.7024 - acc: 0.7571\n",
      "Epoch 24/64\n",
      "1562/1562 [==============================] - 99s 64ms/step - loss: 0.6902 - acc: 0.7643\n",
      "Epoch 25/64\n",
      "1562/1562 [==============================] - 99s 63ms/step - loss: 0.6807 - acc: 0.7670\n",
      "Epoch 26/64\n",
      "1562/1562 [==============================] - 99s 63ms/step - loss: 0.6638 - acc: 0.7705\n",
      "Epoch 27/64\n",
      "1562/1562 [==============================] - 98s 63ms/step - loss: 0.6535 - acc: 0.7756\n",
      "Epoch 28/64\n",
      "1562/1562 [==============================] - 99s 63ms/step - loss: 0.6486 - acc: 0.7775\n",
      "Epoch 29/64\n",
      "1562/1562 [==============================] - 99s 63ms/step - loss: 0.6327 - acc: 0.7819\n",
      "Epoch 30/64\n",
      "1562/1562 [==============================] - 99s 63ms/step - loss: 0.6221 - acc: 0.7863\n",
      "Epoch 31/64\n",
      "1562/1562 [==============================] - 98s 63ms/step - loss: 0.6164 - acc: 0.7886\n",
      "Epoch 32/64\n",
      "1562/1562 [==============================] - 98s 63ms/step - loss: 0.6033 - acc: 0.7932\n",
      "Epoch 33/64\n",
      "1562/1562 [==============================] - 99s 64ms/step - loss: 0.5912 - acc: 0.7964\n",
      "Epoch 34/64\n",
      "1562/1562 [==============================] - 99s 64ms/step - loss: 0.5909 - acc: 0.7962\n",
      "Epoch 35/64\n",
      "1562/1562 [==============================] - 99s 63ms/step - loss: 0.5782 - acc: 0.8017\n",
      "Epoch 36/64\n",
      "1562/1562 [==============================] - 99s 63ms/step - loss: 0.5761 - acc: 0.8013\n",
      "Epoch 37/64\n",
      "1562/1562 [==============================] - 99s 63ms/step - loss: 0.5655 - acc: 0.8067\n",
      "Epoch 38/64\n",
      "1562/1562 [==============================] - 98s 63ms/step - loss: 0.5640 - acc: 0.8068\n",
      "Epoch 39/64\n",
      "1562/1562 [==============================] - 99s 64ms/step - loss: 0.5586 - acc: 0.8081\n",
      "Epoch 40/64\n",
      "1562/1562 [==============================] - 99s 63ms/step - loss: 0.5489 - acc: 0.8108\n",
      "Epoch 41/64\n",
      "1562/1562 [==============================] - 99s 63ms/step - loss: 0.5411 - acc: 0.8139\n",
      "Epoch 42/64\n",
      "1562/1562 [==============================] - 99s 63ms/step - loss: 0.5336 - acc: 0.8173\n",
      "Epoch 43/64\n",
      "1562/1562 [==============================] - 99s 63ms/step - loss: 0.5290 - acc: 0.8193\n",
      "Epoch 44/64\n",
      "1562/1562 [==============================] - 99s 63ms/step - loss: 0.5238 - acc: 0.8225\n",
      "Epoch 45/64\n",
      "1562/1562 [==============================] - 98s 63ms/step - loss: 0.5258 - acc: 0.8209\n",
      "Epoch 46/64\n",
      "1562/1562 [==============================] - 99s 63ms/step - loss: 0.5198 - acc: 0.8225\n",
      "Epoch 47/64\n",
      "1562/1562 [==============================] - 99s 63ms/step - loss: 0.5063 - acc: 0.8260\n",
      "Epoch 48/64\n",
      "1562/1562 [==============================] - 100s 64ms/step - loss: 0.5066 - acc: 0.8260\n",
      "Epoch 49/64\n",
      "1562/1562 [==============================] - 99s 63ms/step - loss: 0.4956 - acc: 0.8294\n",
      "Epoch 50/64\n",
      "1562/1562 [==============================] - 99s 64ms/step - loss: 0.4943 - acc: 0.8286\n",
      "Epoch 51/64\n",
      "1562/1562 [==============================] - 99s 63ms/step - loss: 0.4908 - acc: 0.8310\n",
      "Epoch 52/64\n",
      "1562/1562 [==============================] - 100s 64ms/step - loss: 0.4834 - acc: 0.8343\n",
      "Epoch 53/64\n",
      "1562/1562 [==============================] - 99s 64ms/step - loss: 0.4864 - acc: 0.8338\n",
      "Epoch 54/64\n",
      "1562/1562 [==============================] - 99s 63ms/step - loss: 0.4845 - acc: 0.8341\n",
      "Epoch 55/64\n",
      "1562/1562 [==============================] - 100s 64ms/step - loss: 0.4740 - acc: 0.8379\n",
      "Epoch 56/64\n",
      "1562/1562 [==============================] - 99s 64ms/step - loss: 0.4737 - acc: 0.8369\n",
      "Epoch 57/64\n",
      "1562/1562 [==============================] - 100s 64ms/step - loss: 0.4699 - acc: 0.8402\n",
      "Epoch 58/64\n",
      "1562/1562 [==============================] - 100s 64ms/step - loss: 0.4660 - acc: 0.8400\n",
      "Epoch 59/64\n",
      "1562/1562 [==============================] - 99s 63ms/step - loss: 0.4645 - acc: 0.8407\n",
      "Epoch 60/64\n",
      "1562/1562 [==============================] - 99s 64ms/step - loss: 0.4584 - acc: 0.8429\n",
      "Epoch 61/64\n",
      "1562/1562 [==============================] - 100s 64ms/step - loss: 0.4585 - acc: 0.8435\n",
      "Epoch 62/64\n",
      "1562/1562 [==============================] - 100s 64ms/step - loss: 0.4576 - acc: 0.8428\n",
      "Epoch 63/64\n",
      "1562/1562 [==============================] - 100s 64ms/step - loss: 0.4416 - acc: 0.8490\n",
      "Epoch 64/64\n",
      "1562/1562 [==============================] - 99s 63ms/step - loss: 0.4506 - acc: 0.8467\n"
     ]
    },
    {
     "data": {
      "text/plain": [
       "<keras.callbacks.History at 0x7f752f3a15c0>"
      ]
     },
     "execution_count": 15,
     "metadata": {
      "tags": []
     },
     "output_type": "execute_result"
    }
   ],
   "source": [
    "gen = make_generator(x_train)\n",
    "\n",
    "model.fit_generator(gen.flow(x_train, y_train_vec, batch_size=32),\n",
    "                    steps_per_epoch=len(x_train) // 32, epochs=64)"
   ]
  },
  {
   "cell_type": "markdown",
   "metadata": {
    "colab_type": "text",
    "id": "5TTvc8ER9g5n"
   },
   "source": [
    "### 3.2. Evaluate the model on the test set\n",
    "\n",
    "Do NOT used the test set until now. Make sure that your model parameters and hyper-parameters are independent of the test set."
   ]
  },
  {
   "cell_type": "code",
   "execution_count": 18,
   "metadata": {
    "colab": {
     "base_uri": "https://localhost:8080/",
     "height": 71
    },
    "colab_type": "code",
    "id": "U9wDI7XC9g5o",
    "outputId": "38d01d88-4beb-47a9-93b3-915579eea21c"
   },
   "outputs": [
    {
     "name": "stdout",
     "output_type": "stream",
     "text": [
      "10000/10000 [==============================] - 6s 585us/step\n",
      "loss = 0.4847667139053345\n",
      "accuracy = 0.839\n"
     ]
    }
   ],
   "source": [
    "loss_and_acc = model.evaluate(x_test, y_test_vec)\n",
    "print('loss = ' + str(loss_and_acc[0]))\n",
    "print('accuracy = ' + str(loss_and_acc[1]))"
   ]
  },
  {
   "cell_type": "markdown",
   "metadata": {
    "colab": {},
    "colab_type": "code",
    "id": "eyX_4U_19g5s"
   },
   "source": [
    "### Final Notes\n",
    "\n",
    "In this notebook, I acknowledge that the order in which things were run may appear strange (certain things are out of order). However, I assure the reader that the contents were run legitimately, and that the integrity of the test set was never compromised."
   ]
  }
 ],
 "metadata": {
  "accelerator": "GPU",
  "colab": {
   "name": "cnn.ipynb",
   "provenance": [],
   "version": "0.3.2"
  },
  "kernelspec": {
   "display_name": "Python 3",
   "language": "python",
   "name": "python3"
  },
  "language_info": {
   "codemirror_mode": {
    "name": "ipython",
    "version": 3
   },
   "file_extension": ".py",
   "mimetype": "text/x-python",
   "name": "python",
   "nbconvert_exporter": "python",
   "pygments_lexer": "ipython3",
   "version": "3.7.3"
  }
 },
 "nbformat": 4,
 "nbformat_minor": 1
}
